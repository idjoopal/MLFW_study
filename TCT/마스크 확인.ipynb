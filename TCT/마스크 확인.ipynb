{
 "cells": [
  {
   "cell_type": "code",
   "execution_count": null,
   "metadata": {},
   "outputs": [],
   "source": [
    "!pip install --trusted-host pypi.org --trusted-host files.pythonhosted.org beautifulsoup4"
   ]
  },
  {
   "cell_type": "code",
   "execution_count": 3,
   "metadata": {},
   "outputs": [],
   "source": [
    "from bs4 import BeautifulSoup\n",
    "from IPython.display import clear_output\n",
    "from datetime import datetime\n",
    "import urllib.request\n",
    "import urllib.parse\n",
    "import time\n",
    "import numpy as np\n",
    "import webbrowser"
   ]
  },
  {
   "cell_type": "code",
   "execution_count": 4,
   "metadata": {},
   "outputs": [],
   "source": [
    "flag = '<li class=\"soldout\">SOLD OUT</li>'\n",
    "flag2 = \"<title>403 forbidden</title>\"\n",
    "\n",
    "def start_Crawling():\n",
    "    count = 0\n",
    "    \n",
    "    while True:\n",
    "        try:\n",
    "            clear_output(wait=True)\n",
    "            count += 1\n",
    "            print(str(count) + \"번째 접속 시도... --> \" + datetime.now().strftime(\"%m/%d/%Y, %H:%M:%S\"))\n",
    "            \n",
    "            with urllib.request.urlopen(\"http://www.welkeepsmall.com/shop/shopbrand.html?xcode=023&mcode=&type=X&scode=&sort=sellcnt\") as response:\n",
    "                html = response.read()\n",
    "                soup = BeautifulSoup(html, 'html.parser')\n",
    "                all_items = soup.find_all(\"ul\",\"info\")\n",
    "            \n",
    "            for item in all_items:\n",
    "                item_name = item.find_all(\"li\")[0]\n",
    "                item_selled = item.find_all(\"li\")[2]\n",
    "    \n",
    "                if str(item_selled) != flag:\n",
    "                    print(item_name)\n",
    "                    print(item_selled)\n",
    "                    print(\"물건 들어옴  \"+ datetime.now().strftime(\"%m/%d/%Y, %H:%M:%S\"))\n",
    "                    \n",
    "                    # 로그인 및 장바구니 접근가능 확인\n",
    "                    print(\"서버 정상 작동 여부 확인.....\")\n",
    "                    with urllib.request.urlopen(\"http://www.welkeepsmall.com/shop/member.html?type=login\") as response:\n",
    "                        html2 = response.read()\n",
    "                        soup2 = BeautifulSoup(html2, 'html.parser')\n",
    "                        login_title = soup2.find(\"title\")\n",
    "                    with urllib.request.urlopen(\"http://www.welkeepsmall.com/shop/basket.html\") as response:\n",
    "                        html3 = response.read()\n",
    "                        soup3 = BeautifulSoup(html3, 'html.parser')\n",
    "                        bucket_title = soup3.find(\"title\")\n",
    "                        \n",
    "                    if (str(login_title) != flag2) | (str(bucket_title) != flag2):\n",
    "                        print(\"정상 접속가능\")\n",
    "                        webbrowser.open('http://www.welkeepsmall.com/shop/shopbrand.html?xcode=023&mcode=&type=X&scode=&sort=sellcnt', new=1)\n",
    "                        return\n",
    "                    else:\n",
    "                        print(\"정상 접속 불가능\")\n",
    "                        break\n",
    "                        \n",
    "            print(\"현재 재고 없음\")\n",
    "            print(datetime.now().strftime(\"%m/%d/%Y, %H:%M:%S\"))\n",
    "            time.sleep(1 + np.random.randn(1)[0]%1)\n",
    "            \n",
    "        except:\n",
    "            print(\"서버 조짐!\")\n",
    "            print(datetime.now().strftime(\"%m/%d/%Y, %H:%M:%S\"))\n",
    "            time.sleep(1 + np.random.randn(1)[0]%1)"
   ]
  },
  {
   "cell_type": "code",
   "execution_count": null,
   "metadata": {},
   "outputs": [
    {
     "name": "stdout",
     "output_type": "stream",
     "text": [
      "18번째 접속 시도... --> 02/25/2020, 15:43:42\n"
     ]
    }
   ],
   "source": [
    "start_Crawling()"
   ]
  }
 ],
 "metadata": {
  "kernelspec": {
   "display_name": "Python 3",
   "language": "python",
   "name": "python3"
  },
  "language_info": {
   "codemirror_mode": {
    "name": "ipython",
    "version": 3
   },
   "file_extension": ".py",
   "mimetype": "text/x-python",
   "name": "python",
   "nbconvert_exporter": "python",
   "pygments_lexer": "ipython3",
   "version": "3.7.4"
  }
 },
 "nbformat": 4,
 "nbformat_minor": 2
}
