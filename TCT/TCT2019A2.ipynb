{
 "cells": [
  {
   "cell_type": "code",
   "execution_count": 12,
   "metadata": {},
   "outputs": [],
   "source": [
    "bicycleStation = ['E2','E5','E7','E10']\n",
    "start = 'E2'\n",
    "destination = 'E9'\n",
    "departure = '12:00'\n",
    "\n",
    "WALK = 240\n",
    "BICYCLE = 70\n",
    "SHUTTLE = 20\n",
    "\n",
    "def getTraveltime(biSt, st, dest):\n",
    "    res = 0\n",
    "    \n",
    "    def getStationNum(stationStr):\n",
    "        num = 0\n",
    "        for s in range(len(stationStr)):\n",
    "            if s != 0:\n",
    "                num *= 10\n",
    "                num += int(stationStr[s])\n",
    "        return num\n",
    "    \n",
    "    start_num = getStationNum(st)\n",
    "    dest_num = getStationNum(dest)\n",
    "    print(start_num, dest_num)\n",
    "    \n",
    "    \n",
    "    \n",
    "    return res\n",
    "\n",
    "def getTraveltimeShuttle(biSt, st, dest, dep):\n",
    "    res = 0\n",
    "    \n",
    "    return res"
   ]
  },
  {
   "cell_type": "code",
   "execution_count": 13,
   "metadata": {},
   "outputs": [
    {
     "name": "stdout",
     "output_type": "stream",
     "text": [
      "2 9\n"
     ]
    },
    {
     "data": {
      "text/plain": [
       "0"
      ]
     },
     "execution_count": 13,
     "metadata": {},
     "output_type": "execute_result"
    }
   ],
   "source": [
    "getTraveltime(bicycleStation, start, destination)"
   ]
  }
 ],
 "metadata": {
  "kernelspec": {
   "display_name": "Python 3",
   "language": "python",
   "name": "python3"
  },
  "language_info": {
   "codemirror_mode": {
    "name": "ipython",
    "version": 3
   },
   "file_extension": ".py",
   "mimetype": "text/x-python",
   "name": "python",
   "nbconvert_exporter": "python",
   "pygments_lexer": "ipython3",
   "version": "3.7.4"
  }
 },
 "nbformat": 4,
 "nbformat_minor": 2
}
