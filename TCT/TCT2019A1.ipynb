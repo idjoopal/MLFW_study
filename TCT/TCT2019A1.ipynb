{
 "cells": [
  {
   "cell_type": "code",
   "execution_count": 11,
   "metadata": {},
   "outputs": [
    {
     "name": "stdout",
     "output_type": "stream",
     "text": [
      "abbbbbcddd\n"
     ]
    }
   ],
   "source": [
    "# 1. 압축된 문자열의 원본 찾기\n",
    "zipStr = 'ab4cd3'\n",
    "prevS = '0'\n",
    "\n",
    "ansStr = \"\"\n",
    "\n",
    "for s in zipStr:    \n",
    "    if s.isalpha() & prevS.isalpha() :\n",
    "        ansStr += prevS\n",
    "        prevS = s\n",
    "    \n",
    "    if s.isalpha() & prevS.isnumeric():\n",
    "        prevS = s\n",
    "        \n",
    "    if s.isnumeric():\n",
    "        for i in range(0, int(s)):\n",
    "            ansStr += prevS\n",
    "\n",
    "print(ansStr)"
   ]
  },
  {
   "cell_type": "code",
   "execution_count": null,
   "metadata": {},
   "outputs": [],
   "source": [
    "# 2. 파일과 디렉토리 개수찾기\n"
   ]
  }
 ],
 "metadata": {
  "kernelspec": {
   "display_name": "Python 3",
   "language": "python",
   "name": "python3"
  },
  "language_info": {
   "codemirror_mode": {
    "name": "ipython",
    "version": 3
   },
   "file_extension": ".py",
   "mimetype": "text/x-python",
   "name": "python",
   "nbconvert_exporter": "python",
   "pygments_lexer": "ipython3",
   "version": "3.7.4"
  }
 },
 "nbformat": 4,
 "nbformat_minor": 2
}
