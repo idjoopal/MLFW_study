{
 "cells": [
  {
   "cell_type": "code",
   "execution_count": null,
   "metadata": {},
   "outputs": [],
   "source": [
    "# !pip install --trusted-host pypi.org --trusted-host files.pythonhosted.org beautifulsoup4"
   ]
  },
  {
   "cell_type": "code",
   "execution_count": null,
   "metadata": {},
   "outputs": [],
   "source": [
    "from bs4 import BeautifulSoup\n",
    "# from IPython.display import clear_output\n",
    "from datetime import datetime\n",
    "import urllib.request\n",
    "import urllib.parse\n",
    "import time\n",
    "import numpy as np\n",
    "import webbrowser"
   ]
  },
  {
   "cell_type": "code",
   "execution_count": null,
   "metadata": {},
   "outputs": [],
   "source": [
    "flag = '<li class=\"soldout\">SOLD OUT</li>'\n",
    "flag2 = \"<title>403 forbidden</title>\"\n",
    "\n",
    "def start_Crawling2():\n",
    "    count = 0\n",
    "    \n",
    "    while True:\n",
    "        try:\n",
    "            # clear_output(wait=True)\n",
    "            count += 1\n",
    "            print(str(count) + \"번째 접속 시도... --> \" + datetime.now().strftime(\"%m/%d/%Y, %H:%M:%S\"))\n",
    "            \n",
    "            with urllib.request.urlopen(\"http://www.welkeepsmall.com/shop/shopbrand.html?xcode=023&mcode=&type=X&scode=&sort=sellcnt\") as response:\n",
    "                html = response.read()\n",
    "                soup = BeautifulSoup(html, 'html.parser')\n",
    "                all_items = soup.find_all(\"ul\",\"info\")\n",
    "            \n",
    "            for item in all_items:\n",
    "                item_name = item.find_all(\"li\")[0]\n",
    "                item_selled = item.find_all(\"li\")[2]\n",
    "    \n",
    "                if ( (\"대형\" in str(item_selled)) | (\"중형\" in str(item_selled)) ) & (str(item_selled) != flag):\n",
    "                    print(item_name)\n",
    "                    print(item_selled)\n",
    "                    print(\"중, 대형 물건 들어옴  \"+ datetime.now().strftime(\"%m/%d/%Y, %H:%M:%S\"))\n",
    "                    webbrowser.open('http://www.welkeepsmall.com/shop/shopbrand.html?xcode=023&mcode=&type=X&scode=&sort=sellcnt', new=1)\n",
    "                    return\n",
    "                        \n",
    "            print(\"현재 재고 없음\")\n",
    "            print(datetime.now().strftime(\"%m/%d/%Y, %H:%M:%S\"))\n",
    "            time.sleep(1 + np.random.randn(1)[0]%1)\n",
    "            \n",
    "        except:\n",
    "            print(\"서버 조짐!\")\n",
    "            print(datetime.now().strftime(\"%m/%d/%Y, %H:%M:%S\"))\n",
    "            time.sleep(1 + np.random.randn(1)[0]%1)"
   ]
  },
  {
   "cell_type": "code",
   "execution_count": null,
   "metadata": {},
   "outputs": [],
   "source": [
    "start_Crawling2()"
   ]
  }
 ],
 "metadata": {
  "kernelspec": {
   "display_name": "Python 3",
   "language": "python",
   "name": "python3"
  },
  "language_info": {
   "codemirror_mode": {
    "name": "ipython",
    "version": 3
   },
   "file_extension": ".py",
   "mimetype": "text/x-python",
   "name": "python",
   "nbconvert_exporter": "python",
   "pygments_lexer": "ipython3",
   "version": "3.7.4"
  }
 },
 "nbformat": 4,
 "nbformat_minor": 2
}
