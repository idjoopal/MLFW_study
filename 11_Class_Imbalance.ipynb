{
  "nbformat": 4,
  "nbformat_minor": 0,
  "metadata": {
    "colab": {
      "name": "11.Class Imbalance.ipynb",
      "provenance": [],
      "collapsed_sections": [],
      "include_colab_link": true
    },
    "kernelspec": {
      "display_name": "Python 3",
      "language": "python",
      "name": "python3"
    },
    "language_info": {
      "codemirror_mode": {
        "name": "ipython",
        "version": 3
      },
      "file_extension": ".py",
      "mimetype": "text/x-python",
      "name": "python",
      "nbconvert_exporter": "python",
      "pygments_lexer": "ipython3",
      "version": "3.7.6"
    }
  },
  "cells": [
    {
      "cell_type": "markdown",
      "metadata": {
        "id": "view-in-github",
        "colab_type": "text"
      },
      "source": [
        "<a href=\"https://colab.research.google.com/github/idjoopal/MLFW_study/blob/master/11_Class_Imbalance.ipynb\" target=\"_parent\"><img src=\"https://colab.research.google.com/assets/colab-badge.svg\" alt=\"Open In Colab\"/></a>"
      ]
    },
    {
      "cell_type": "markdown",
      "metadata": {
        "id": "Oc9xGL--9Kni"
      },
      "source": [
        "# Class Imbalance\n",
        "\n",
        "---\n",
        "\n",
        "비즈니스 상황에서 타겟 클래스의 불균형은 굉장히 흔한 현상\n",
        "> * 고객 이탈 예측 : 잔존 > 이탈\n",
        "* 금융 비정상 거래 예측 : 정상 > 비정상(사기거래)\n",
        "* 제조 공정간 불량 예측 : 정상 > 불량\n"
      ]
    },
    {
      "cell_type": "markdown",
      "metadata": {
        "id": "f5zLo8IMC2NO"
      },
      "source": [
        "## 1.불균형 데이터"
      ]
    },
    {
      "cell_type": "markdown",
      "metadata": {
        "id": "Lg70N9SXUKc4"
      },
      "source": [
        "### 1) 라이브러리, 데이터 준비"
      ]
    },
    {
      "cell_type": "code",
      "metadata": {
        "id": "02MFOAr__9hR"
      },
      "source": [
        "# 기본 라이브러리 불러오기\n",
        "import pandas as pd\n",
        "import numpy as np\n",
        "import matplotlib.pyplot as plt\n",
        "import seaborn as sns\n"
      ],
      "execution_count": 1,
      "outputs": []
    },
    {
      "cell_type": "code",
      "metadata": {
        "id": "6ULOAJRR9UPs",
        "colab": {
          "base_uri": "https://localhost:8080/",
          "height": 204
        },
        "outputId": "9e0d1303-a096-4ce9-e33e-a5378c559377"
      },
      "source": [
        "# 예제 파일을 불러옵니다.\n",
        "path = \"https://raw.githubusercontent.com/DA4BAM/dataset/master/class_imbalance_example.csv\"\n",
        "data = pd.read_csv(path)\n",
        "data.columns = ['x1', 'x2', 'y']\n",
        "data.head()"
      ],
      "execution_count": 2,
      "outputs": [
        {
          "output_type": "execute_result",
          "data": {
            "text/html": [
              "<div>\n",
              "<style scoped>\n",
              "    .dataframe tbody tr th:only-of-type {\n",
              "        vertical-align: middle;\n",
              "    }\n",
              "\n",
              "    .dataframe tbody tr th {\n",
              "        vertical-align: top;\n",
              "    }\n",
              "\n",
              "    .dataframe thead th {\n",
              "        text-align: right;\n",
              "    }\n",
              "</style>\n",
              "<table border=\"1\" class=\"dataframe\">\n",
              "  <thead>\n",
              "    <tr style=\"text-align: right;\">\n",
              "      <th></th>\n",
              "      <th>x1</th>\n",
              "      <th>x2</th>\n",
              "      <th>y</th>\n",
              "    </tr>\n",
              "  </thead>\n",
              "  <tbody>\n",
              "    <tr>\n",
              "      <th>0</th>\n",
              "      <td>0.177451</td>\n",
              "      <td>-1.836462</td>\n",
              "      <td>0</td>\n",
              "    </tr>\n",
              "    <tr>\n",
              "      <th>1</th>\n",
              "      <td>0.483349</td>\n",
              "      <td>1.441359</td>\n",
              "      <td>0</td>\n",
              "    </tr>\n",
              "    <tr>\n",
              "      <th>2</th>\n",
              "      <td>-0.282035</td>\n",
              "      <td>-1.191999</td>\n",
              "      <td>0</td>\n",
              "    </tr>\n",
              "    <tr>\n",
              "      <th>3</th>\n",
              "      <td>-0.630565</td>\n",
              "      <td>1.411177</td>\n",
              "      <td>0</td>\n",
              "    </tr>\n",
              "    <tr>\n",
              "      <th>4</th>\n",
              "      <td>-2.546617</td>\n",
              "      <td>0.076647</td>\n",
              "      <td>1</td>\n",
              "    </tr>\n",
              "  </tbody>\n",
              "</table>\n",
              "</div>"
            ],
            "text/plain": [
              "         x1        x2  y\n",
              "0  0.177451 -1.836462  0\n",
              "1  0.483349  1.441359  0\n",
              "2 -0.282035 -1.191999  0\n",
              "3 -0.630565  1.411177  0\n",
              "4 -2.546617  0.076647  1"
            ]
          },
          "metadata": {},
          "execution_count": 2
        }
      ]
    },
    {
      "cell_type": "markdown",
      "metadata": {
        "id": "JWkdxf0QUEGT"
      },
      "source": [
        "### 2) 데이터 둘러보기"
      ]
    },
    {
      "cell_type": "code",
      "metadata": {
        "id": "LBzDxZCHjzo0",
        "colab": {
          "base_uri": "https://localhost:8080/",
          "height": 297
        },
        "outputId": "ce6b4afa-252b-47de-b38d-1b08706bf215"
      },
      "source": [
        "# 기초통계량\n",
        "data.describe()"
      ],
      "execution_count": 3,
      "outputs": [
        {
          "output_type": "execute_result",
          "data": {
            "text/html": [
              "<div>\n",
              "<style scoped>\n",
              "    .dataframe tbody tr th:only-of-type {\n",
              "        vertical-align: middle;\n",
              "    }\n",
              "\n",
              "    .dataframe tbody tr th {\n",
              "        vertical-align: top;\n",
              "    }\n",
              "\n",
              "    .dataframe thead th {\n",
              "        text-align: right;\n",
              "    }\n",
              "</style>\n",
              "<table border=\"1\" class=\"dataframe\">\n",
              "  <thead>\n",
              "    <tr style=\"text-align: right;\">\n",
              "      <th></th>\n",
              "      <th>x1</th>\n",
              "      <th>x2</th>\n",
              "      <th>y</th>\n",
              "    </tr>\n",
              "  </thead>\n",
              "  <tbody>\n",
              "    <tr>\n",
              "      <th>count</th>\n",
              "      <td>1.000000e+02</td>\n",
              "      <td>1.000000e+02</td>\n",
              "      <td>100.000000</td>\n",
              "    </tr>\n",
              "    <tr>\n",
              "      <th>mean</th>\n",
              "      <td>7.993606e-16</td>\n",
              "      <td>-1.598721e-16</td>\n",
              "      <td>0.100000</td>\n",
              "    </tr>\n",
              "    <tr>\n",
              "      <th>std</th>\n",
              "      <td>1.716020e+00</td>\n",
              "      <td>1.400297e+00</td>\n",
              "      <td>0.301511</td>\n",
              "    </tr>\n",
              "    <tr>\n",
              "      <th>min</th>\n",
              "      <td>-3.735253e+00</td>\n",
              "      <td>-3.014357e+00</td>\n",
              "      <td>0.000000</td>\n",
              "    </tr>\n",
              "    <tr>\n",
              "      <th>25%</th>\n",
              "      <td>-9.949995e-01</td>\n",
              "      <td>-9.438397e-01</td>\n",
              "      <td>0.000000</td>\n",
              "    </tr>\n",
              "    <tr>\n",
              "      <th>50%</th>\n",
              "      <td>-2.958005e-02</td>\n",
              "      <td>7.189868e-02</td>\n",
              "      <td>0.000000</td>\n",
              "    </tr>\n",
              "    <tr>\n",
              "      <th>75%</th>\n",
              "      <td>1.030211e+00</td>\n",
              "      <td>8.911190e-01</td>\n",
              "      <td>0.000000</td>\n",
              "    </tr>\n",
              "    <tr>\n",
              "      <th>max</th>\n",
              "      <td>4.574572e+00</td>\n",
              "      <td>3.317229e+00</td>\n",
              "      <td>1.000000</td>\n",
              "    </tr>\n",
              "  </tbody>\n",
              "</table>\n",
              "</div>"
            ],
            "text/plain": [
              "                 x1            x2           y\n",
              "count  1.000000e+02  1.000000e+02  100.000000\n",
              "mean   7.993606e-16 -1.598721e-16    0.100000\n",
              "std    1.716020e+00  1.400297e+00    0.301511\n",
              "min   -3.735253e+00 -3.014357e+00    0.000000\n",
              "25%   -9.949995e-01 -9.438397e-01    0.000000\n",
              "50%   -2.958005e-02  7.189868e-02    0.000000\n",
              "75%    1.030211e+00  8.911190e-01    0.000000\n",
              "max    4.574572e+00  3.317229e+00    1.000000"
            ]
          },
          "metadata": {},
          "execution_count": 3
        }
      ]
    },
    {
      "cell_type": "code",
      "metadata": {
        "id": "EcctntfcFCCe",
        "colab": {
          "base_uri": "https://localhost:8080/",
          "height": 319
        },
        "outputId": "5a5df651-de39-48b4-9295-a2d784bb6a98"
      },
      "source": [
        "# class imbalance\n",
        "print(data['y'].value_counts())\n",
        "\n",
        "data['y'].value_counts().plot(kind = 'barh')\n",
        "plt.show()"
      ],
      "execution_count": 4,
      "outputs": [
        {
          "output_type": "stream",
          "name": "stdout",
          "text": [
            "0    90\n",
            "1    10\n",
            "Name: y, dtype: int64\n"
          ]
        },
        {
          "output_type": "display_data",
          "data": {
            "image/png": "[encoded data removed]",
            "text/plain": [
              "<Figure size 432x288 with 1 Axes>"
            ]
          },
          "metadata": {
            "needs_background": "light"
          }
        }
      ]
    },
    {
      "cell_type": "code",
      "metadata": {
        "id": "vilTmEs7GCUz"
      },
      "source": [
        "# 데이터를 x와 y로 분할\n",
        "target = 'y'\n",
        "x = data.drop(target, axis = 1)\n",
        "y = data.loc[:, target]"
      ],
      "execution_count": 5,
      "outputs": []
    },
    {
      "cell_type": "code",
      "metadata": {
        "id": "fiOv4O16FGMr"
      },
      "source": [
        "# 산점도를 클래스별로 구분해서 그리는 간단한 함수를 만듭니다.\n",
        "def my_scatter(x, y, title = \"\") :\n",
        "    temp = pd.DataFrame(x.copy())\n",
        "    temp['y'] = y\n",
        "\n",
        "    data0 = temp.loc[temp['y']== 0]\n",
        "    data1 = temp.loc[temp['y']== 1]\n",
        "\n",
        "    print(f'0 : {data0.shape[0]} , 1: {data1.shape[0]}')\n",
        "    plt.title(title)\n",
        "    plt.scatter(data0.iloc[:,0], data0.iloc[:,1], label = '0', alpha = .7)\n",
        "    plt.scatter(data1.iloc[:,0], data1.iloc[:,1], label = '1', alpha = .7)\n",
        "    plt.xlim(-5,5)\n",
        "    plt.ylim(-3.5, 3.5)\n",
        "    plt.legend()\n",
        "    plt.show()"
      ],
      "execution_count": 6,
      "outputs": []
    },
    {
      "cell_type": "code",
      "metadata": {
        "id": "TDhMV2SjC17f",
        "colab": {
          "base_uri": "https://localhost:8080/",
          "height": 299
        },
        "outputId": "88d8a7a4-0c4a-4452-e837-0c8534ef3517"
      },
      "source": [
        "my_scatter(x, y, 'Original')"
      ],
      "execution_count": 7,
      "outputs": [
        {
          "output_type": "stream",
          "name": "stdout",
          "text": [
            "0 : 90 , 1: 10\n"
          ]
        },
        {
          "output_type": "display_data",
          "data": {
            "image/png": "[encoded data removed]",
            "text/plain": [
              "<Figure size 432x288 with 1 Axes>"
            ]
          },
          "metadata": {
            "needs_background": "light"
          }
        }
      ]
    },
    {
      "cell_type": "markdown",
      "metadata": {
        "id": "takxRUKP0Sdo"
      },
      "source": [
        "### 3) 그대로 모델링 수행"
      ]
    },
    {
      "cell_type": "code",
      "metadata": {
        "id": "FKKySLcR0nMb"
      },
      "source": [
        "from sklearn.model_selection import train_test_split\n",
        "from sklearn.linear_model import LogisticRegression\n",
        "from sklearn.metrics import *"
      ],
      "execution_count": 8,
      "outputs": []
    },
    {
      "cell_type": "code",
      "metadata": {
        "id": "8_T5y5vAy7ES"
      },
      "source": [
        "# 데이터 분할\n",
        "x_train, x_test, y_train, y_test = train_test_split(x, y, test_size = .4, random_state=2022)"
      ],
      "execution_count": 9,
      "outputs": []
    },
    {
      "cell_type": "code",
      "metadata": {
        "id": "X2gGORbTzZ7n",
        "colab": {
          "base_uri": "https://localhost:8080/"
        },
        "outputId": "ca17718b-a570-4923-f10c-8904411eb127"
      },
      "source": [
        "# 모델링 및 평가\n",
        "model = LogisticRegression()\n",
        "model.fit(x_train, y_train)\n",
        "pred = model.predict(x_test)\n",
        "\n",
        "print(confusion_matrix(y_test, pred))\n",
        "print(classification_report(y_test, pred))"
      ],
      "execution_count": 10,
      "outputs": [
        {
          "output_type": "stream",
          "name": "stdout",
          "text": [
            "[[37  0]\n",
            " [ 2  1]]\n",
            "              precision    recall  f1-score   support\n",
            "\n",
            "           0       0.95      1.00      0.97        37\n",
            "           1       1.00      0.33      0.50         3\n",
            "\n",
            "    accuracy                           0.95        40\n",
            "   macro avg       0.97      0.67      0.74        40\n",
            "weighted avg       0.95      0.95      0.94        40\n",
            "\n"
          ]
        }
      ]
    },
    {
      "cell_type": "markdown",
      "metadata": {
        "id": "vawYXZhHDl_9"
      },
      "source": [
        "## 2.Resampling"
      ]
    },
    {
      "cell_type": "code",
      "metadata": {
        "id": "FCHFarF3TeL7"
      },
      "source": [
        "# 필요한 함수들을 불러옵니다.\n",
        "from imblearn.under_sampling import RandomUnderSampler\n",
        "from imblearn.over_sampling import RandomOverSampler, SMOTE"
      ],
      "execution_count": 11,
      "outputs": []
    },
    {
      "cell_type": "markdown",
      "metadata": {
        "id": "HWwB165i9PRi"
      },
      "source": [
        "### 1.Down sampling"
      ]
    },
    {
      "cell_type": "markdown",
      "metadata": {
        "id": "wznlrsDKWKE3"
      },
      "source": [
        "![image.png](data:image/png;base64,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)"
      ]
    },
    {
      "cell_type": "code",
      "metadata": {
        "id": "pZ7LJrbWAU7c",
        "colab": {
          "base_uri": "https://localhost:8080/",
          "height": 581
        },
        "outputId": "71fa9c74-4a58-42a5-a35b-2fdf247293a5"
      },
      "source": [
        "# Down sampling : 적은 쪽 클래스는 그대로, 많은 쪽 클래스는 랜덤 샘플링(적은쪽 클래수 수 만큼)\n",
        "rus = RandomUnderSampler()\n",
        "X_rus, y_rus = rus.fit_resample(x, y)\n",
        "\n",
        "my_scatter(x, y, 'Original')\n",
        "my_scatter(X_rus, y_rus, 'Down sampling')"
      ],
      "execution_count": 12,
      "outputs": [
        {
          "output_type": "stream",
          "name": "stdout",
          "text": [
            "0 : 90 , 1: 10\n"
          ]
        },
        {
          "output_type": "display_data",
          "data": {
            "image/png": "[encoded data removed]",
            "text/plain": [
              "<Figure size 432x288 with 1 Axes>"
            ]
          },
          "metadata": {
            "needs_background": "light"
          }
        },
        {
          "output_type": "stream",
          "name": "stdout",
          "text": [
            "0 : 10 , 1: 10\n"
          ]
        },
        {
          "output_type": "display_data",
          "data": {
            "image/png": "[encoded data removed]",
            "text/plain": [
              "<Figure size 432x288 with 1 Axes>"
            ]
          },
          "metadata": {
            "needs_background": "light"
          }
        }
      ]
    },
    {
      "cell_type": "markdown",
      "metadata": {
        "id": "CFQ146lsjsCU"
      },
      "source": [
        "### 2.Up sampling"
      ]
    },
    {
      "cell_type": "markdown",
      "metadata": {
        "id": "fbRCzqQ1WQOo"
      },
      "source": [
        "![image.png](data:image/png;base64,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)"
      ]
    },
    {
      "cell_type": "code",
      "metadata": {
        "id": "W2V4__ZeAu6Q",
        "colab": {
          "base_uri": "https://localhost:8080/",
          "height": 581
        },
        "outputId": "f5279b5b-f224-4ac8-f5af-50a1bf9c8130"
      },
      "source": [
        "# Up sampling : 많은 클래스는 그대로, 적은 클래스는 랜덤 복원추출(많은 클래스 만큼)\n",
        "ros = RandomOverSampler()\n",
        "X_ros, y_ros = ros.fit_resample(x, y)\n",
        "\n",
        "my_scatter(x, y, 'Original')\n",
        "my_scatter(X_ros, y_ros, 'Random over-sampling')"
      ],
      "execution_count": 13,
      "outputs": [
        {
          "output_type": "stream",
          "name": "stdout",
          "text": [
            "0 : 90 , 1: 10\n"
          ]
        },
        {
          "output_type": "display_data",
          "data": {
            "image/png": "[encoded data removed]",
            "text/plain": [
              "<Figure size 432x288 with 1 Axes>"
            ]
          },
          "metadata": {
            "needs_background": "light"
          }
        },
        {
          "output_type": "stream",
          "name": "stdout",
          "text": [
            "0 : 90 , 1: 90\n"
          ]
        },
        {
          "output_type": "display_data",
          "data": {
            "image/png": "[encoded data removed]",
            "text/plain": [
              "<Figure size 432x288 with 1 Axes>"
            ]
          },
          "metadata": {
            "needs_background": "light"
          }
        }
      ]
    },
    {
      "cell_type": "code",
      "metadata": {
        "id": "-Z5tfzhmSvjH",
        "colab": {
          "base_uri": "https://localhost:8080/",
          "height": 419
        },
        "outputId": "63dec80c-9f73-4b93-d0d7-58abbed7e882"
      },
      "source": [
        "# 데이터를 열어보면, 클래스 1의 값이 중복으로 추출된 것을 볼수 있습니다.\n",
        "UpSample = pd.DataFrame(X_ros, columns=['x1','x2'])\n",
        "UpSample['y'] = y_ros\n",
        "UpSample.loc[UpSample['y'] == 1].sort_values('x1')"
      ],
      "execution_count": 14,
      "outputs": [
        {
          "output_type": "execute_result",
          "data": {
            "text/html": [
              "<div>\n",
              "<style scoped>\n",
              "    .dataframe tbody tr th:only-of-type {\n",
              "        vertical-align: middle;\n",
              "    }\n",
              "\n",
              "    .dataframe tbody tr th {\n",
              "        vertical-align: top;\n",
              "    }\n",
              "\n",
              "    .dataframe thead th {\n",
              "        text-align: right;\n",
              "    }\n",
              "</style>\n",
              "<table border=\"1\" class=\"dataframe\">\n",
              "  <thead>\n",
              "    <tr style=\"text-align: right;\">\n",
              "      <th></th>\n",
              "      <th>x1</th>\n",
              "      <th>x2</th>\n",
              "      <th>y</th>\n",
              "    </tr>\n",
              "  </thead>\n",
              "  <tbody>\n",
              "    <tr>\n",
              "      <th>162</th>\n",
              "      <td>-3.735253</td>\n",
              "      <td>-1.806453</td>\n",
              "      <td>1</td>\n",
              "    </tr>\n",
              "    <tr>\n",
              "      <th>170</th>\n",
              "      <td>-3.735253</td>\n",
              "      <td>-1.806453</td>\n",
              "      <td>1</td>\n",
              "    </tr>\n",
              "    <tr>\n",
              "      <th>154</th>\n",
              "      <td>-3.735253</td>\n",
              "      <td>-1.806453</td>\n",
              "      <td>1</td>\n",
              "    </tr>\n",
              "    <tr>\n",
              "      <th>119</th>\n",
              "      <td>-3.735253</td>\n",
              "      <td>-1.806453</td>\n",
              "      <td>1</td>\n",
              "    </tr>\n",
              "    <tr>\n",
              "      <th>159</th>\n",
              "      <td>-3.735253</td>\n",
              "      <td>-1.806453</td>\n",
              "      <td>1</td>\n",
              "    </tr>\n",
              "    <tr>\n",
              "      <th>...</th>\n",
              "      <td>...</td>\n",
              "      <td>...</td>\n",
              "      <td>...</td>\n",
              "    </tr>\n",
              "    <tr>\n",
              "      <th>130</th>\n",
              "      <td>-0.843995</td>\n",
              "      <td>1.274816</td>\n",
              "      <td>1</td>\n",
              "    </tr>\n",
              "    <tr>\n",
              "      <th>9</th>\n",
              "      <td>-0.843995</td>\n",
              "      <td>1.274816</td>\n",
              "      <td>1</td>\n",
              "    </tr>\n",
              "    <tr>\n",
              "      <th>177</th>\n",
              "      <td>-0.843995</td>\n",
              "      <td>1.274816</td>\n",
              "      <td>1</td>\n",
              "    </tr>\n",
              "    <tr>\n",
              "      <th>113</th>\n",
              "      <td>-0.843995</td>\n",
              "      <td>1.274816</td>\n",
              "      <td>1</td>\n",
              "    </tr>\n",
              "    <tr>\n",
              "      <th>125</th>\n",
              "      <td>-0.843995</td>\n",
              "      <td>1.274816</td>\n",
              "      <td>1</td>\n",
              "    </tr>\n",
              "  </tbody>\n",
              "</table>\n",
              "<p>90 rows × 3 columns</p>\n",
              "</div>"
            ],
            "text/plain": [
              "           x1        x2  y\n",
              "162 -3.735253 -1.806453  1\n",
              "170 -3.735253 -1.806453  1\n",
              "154 -3.735253 -1.806453  1\n",
              "119 -3.735253 -1.806453  1\n",
              "159 -3.735253 -1.806453  1\n",
              "..        ...       ... ..\n",
              "130 -0.843995  1.274816  1\n",
              "9   -0.843995  1.274816  1\n",
              "177 -0.843995  1.274816  1\n",
              "113 -0.843995  1.274816  1\n",
              "125 -0.843995  1.274816  1\n",
              "\n",
              "[90 rows x 3 columns]"
            ]
          },
          "metadata": {},
          "execution_count": 14
        }
      ]
    },
    {
      "cell_type": "code",
      "metadata": {
        "id": "orpt9DzASvjH",
        "colab": {
          "base_uri": "https://localhost:8080/"
        },
        "outputId": "3a0d21cf-77e8-4d03-adf5-8e81d5883bbf"
      },
      "source": [
        "# 랜덤 복원 추출을 하다보니, 모든 값이 동일한 수 만큼 추출된 것이 아니라, 각각 다르게 추출됨\n",
        "UpSample.loc[UpSample['y'] == 1].value_counts()"
      ],
      "execution_count": 15,
      "outputs": [
        {
          "output_type": "execute_result",
          "data": {
            "text/plain": [
              "x1         x2         y\n",
              "-2.546617   0.076647  1    15\n",
              "-2.881623   0.478477  1    11\n",
              "-2.816880  -0.004912  1    10\n",
              "-0.843995   1.274816  1     9\n",
              "-3.735253  -1.806453  1     9\n",
              "-2.221968   0.960741  1     8\n",
              "-2.594960  -0.474282  1     8\n",
              "-2.854326   1.708045  1     8\n",
              "-2.968055   0.526068  1     7\n",
              "-2.916768  -1.692535  1     5\n",
              "dtype: int64"
            ]
          },
          "metadata": {},
          "execution_count": 15
        }
      ]
    },
    {
      "cell_type": "markdown",
      "metadata": {
        "id": "iDxPgoCSTuvR"
      },
      "source": [
        "### 3.SMOTE(**S**ynthetic **M**inority **O**versampling **TE**chnique)"
      ]
    },
    {
      "cell_type": "markdown",
      "metadata": {
        "id": "5LfUaHCRWSnS"
      },
      "source": [
        "![image.png](data:image/png;base64,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)"
      ]
    },
    {
      "cell_type": "code",
      "metadata": {
        "id": "Q6auEQsiAiTG",
        "colab": {
          "base_uri": "https://localhost:8080/",
          "height": 581
        },
        "outputId": "704883c9-e2c4-4708-c874-86c11b07075c"
      },
      "source": [
        "# SMOTE : 많은쪽은 그대로(혹은 약간 down sampling), 적은쪽은 보간법!\n",
        "smote = SMOTE() # k_neighbors의미 확인\n",
        "X_sm, y_sm = smote.fit_resample(x, y)\n",
        "\n",
        "my_scatter(x, y, 'Original')\n",
        "my_scatter(X_sm, y_sm, 'SMOTE over-sampling')"
      ],
      "execution_count": 16,
      "outputs": [
        {
          "output_type": "stream",
          "name": "stdout",
          "text": [
            "0 : 90 , 1: 10\n"
          ]
        },
        {
          "output_type": "display_data",
          "data": {
            "image/png": "[encoded data removed]",
            "text/plain": [
              "<Figure size 432x288 with 1 Axes>"
            ]
          },
          "metadata": {
            "needs_background": "light"
          }
        },
        {
          "output_type": "stream",
          "name": "stdout",
          "text": [
            "0 : 90 , 1: 90\n"
          ]
        },
        {
          "output_type": "display_data",
          "data": {
            "image/png": "[encoded data removed]",
            "text/plain": [
              "<Figure size 432x288 with 1 Axes>"
            ]
          },
          "metadata": {
            "needs_background": "light"
          }
        }
      ]
    },
    {
      "cell_type": "code",
      "metadata": {
        "id": "Au2sxu1dSvjI",
        "colab": {
          "base_uri": "https://localhost:8080/",
          "height": 419
        },
        "outputId": "8730b5d7-8901-42c1-cbb5-d44d4b54d121"
      },
      "source": [
        "# 데이터를 열어보면 값들이 보간법으로 생성된 것을 볼수 있다.\n",
        "SMOTESample = pd.DataFrame(X_sm.copy(), columns=['x1','x2'])\n",
        "SMOTESample['y'] = y_sm\n",
        "SMOTESample.loc[SMOTESample['y'] == 1].sort_values('x1')"
      ],
      "execution_count": 17,
      "outputs": [
        {
          "output_type": "execute_result",
          "data": {
            "text/html": [
              "<div>\n",
              "<style scoped>\n",
              "    .dataframe tbody tr th:only-of-type {\n",
              "        vertical-align: middle;\n",
              "    }\n",
              "\n",
              "    .dataframe tbody tr th {\n",
              "        vertical-align: top;\n",
              "    }\n",
              "\n",
              "    .dataframe thead th {\n",
              "        text-align: right;\n",
              "    }\n",
              "</style>\n",
              "<table border=\"1\" class=\"dataframe\">\n",
              "  <thead>\n",
              "    <tr style=\"text-align: right;\">\n",
              "      <th></th>\n",
              "      <th>x1</th>\n",
              "      <th>x2</th>\n",
              "      <th>y</th>\n",
              "    </tr>\n",
              "  </thead>\n",
              "  <tbody>\n",
              "    <tr>\n",
              "      <th>71</th>\n",
              "      <td>-3.735253</td>\n",
              "      <td>-1.806453</td>\n",
              "      <td>1</td>\n",
              "    </tr>\n",
              "    <tr>\n",
              "      <th>134</th>\n",
              "      <td>-3.644401</td>\n",
              "      <td>-1.563269</td>\n",
              "      <td>1</td>\n",
              "    </tr>\n",
              "    <tr>\n",
              "      <th>172</th>\n",
              "      <td>-3.586777</td>\n",
              "      <td>-1.409025</td>\n",
              "      <td>1</td>\n",
              "    </tr>\n",
              "    <tr>\n",
              "      <th>113</th>\n",
              "      <td>-3.531264</td>\n",
              "      <td>-1.260433</td>\n",
              "      <td>1</td>\n",
              "    </tr>\n",
              "    <tr>\n",
              "      <th>130</th>\n",
              "      <td>-3.433389</td>\n",
              "      <td>-1.214298</td>\n",
              "      <td>1</td>\n",
              "    </tr>\n",
              "    <tr>\n",
              "      <th>...</th>\n",
              "      <td>...</td>\n",
              "      <td>...</td>\n",
              "      <td>...</td>\n",
              "    </tr>\n",
              "    <tr>\n",
              "      <th>173</th>\n",
              "      <td>-1.158984</td>\n",
              "      <td>1.053152</td>\n",
              "      <td>1</td>\n",
              "    </tr>\n",
              "    <tr>\n",
              "      <th>119</th>\n",
              "      <td>-1.094561</td>\n",
              "      <td>1.328814</td>\n",
              "      <td>1</td>\n",
              "    </tr>\n",
              "    <tr>\n",
              "      <th>107</th>\n",
              "      <td>-0.928441</td>\n",
              "      <td>1.255569</td>\n",
              "      <td>1</td>\n",
              "    </tr>\n",
              "    <tr>\n",
              "      <th>115</th>\n",
              "      <td>-0.858677</td>\n",
              "      <td>1.277980</td>\n",
              "      <td>1</td>\n",
              "    </tr>\n",
              "    <tr>\n",
              "      <th>9</th>\n",
              "      <td>-0.843995</td>\n",
              "      <td>1.274816</td>\n",
              "      <td>1</td>\n",
              "    </tr>\n",
              "  </tbody>\n",
              "</table>\n",
              "<p>90 rows × 3 columns</p>\n",
              "</div>"
            ],
            "text/plain": [
              "           x1        x2  y\n",
              "71  -3.735253 -1.806453  1\n",
              "134 -3.644401 -1.563269  1\n",
              "172 -3.586777 -1.409025  1\n",
              "113 -3.531264 -1.260433  1\n",
              "130 -3.433389 -1.214298  1\n",
              "..        ...       ... ..\n",
              "173 -1.158984  1.053152  1\n",
              "119 -1.094561  1.328814  1\n",
              "107 -0.928441  1.255569  1\n",
              "115 -0.858677  1.277980  1\n",
              "9   -0.843995  1.274816  1\n",
              "\n",
              "[90 rows x 3 columns]"
            ]
          },
          "metadata": {},
          "execution_count": 17
        }
      ]
    },
    {
      "cell_type": "code",
      "metadata": {
        "id": "yOVB1OtDWZpj"
      },
      "source": [
        ""
      ],
      "execution_count": null,
      "outputs": []
    }
  ]
}